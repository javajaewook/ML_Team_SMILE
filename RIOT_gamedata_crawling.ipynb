{
  "nbformat": 4,
  "nbformat_minor": 0,
  "metadata": {
    "colab": {
      "name": "RIOT_gamedata_crawling.ipynb",
      "provenance": [],
      "machine_shape": "hm",
      "authorship_tag": "ABX9TyPWkz3eg3dbVekpKc7HUrjM",
      "include_colab_link": true
    },
    "kernelspec": {
      "name": "python3",
      "display_name": "Python 3"
    },
    "accelerator": "GPU"
  },
  "cells": [
    {
      "cell_type": "markdown",
      "metadata": {
        "id": "view-in-github",
        "colab_type": "text"
      },
      "source": [
        "<a href=\"https://colab.research.google.com/github/javajaewook/ML_Team_SMILE/blob/master/RIOT_gamedata_crawling.ipynb\" target=\"_parent\"><img src=\"https://colab.research.google.com/assets/colab-badge.svg\" alt=\"Open In Colab\"/></a>"
      ]
    },
    {
      "cell_type": "code",
      "metadata": {
        "id": "Q-ldfs27pVaP",
        "colab_type": "code",
        "colab": {
          "base_uri": "https://localhost:8080/",
          "height": 198
        },
        "outputId": "e4f32cb3-d5a7-4fa5-c31e-667263a5654a"
      },
      "source": [
        "pip install riotwatcher # library for riot api"
      ],
      "execution_count": 2,
      "outputs": [
        {
          "output_type": "stream",
          "text": [
            "Collecting riotwatcher\n",
            "\u001b[?25l  Downloading https://files.pythonhosted.org/packages/8b/82/468f4e03ca7b2b13a74fc949c5a1e0c7bad6b0abe0639c9e897259f22313/riotwatcher-3.0.0-py2.py3-none-any.whl (43kB)\n",
            "\r\u001b[K     |███████▌                        | 10kB 27.4MB/s eta 0:00:01\r\u001b[K     |███████████████                 | 20kB 2.2MB/s eta 0:00:01\r\u001b[K     |██████████████████████▌         | 30kB 2.8MB/s eta 0:00:01\r\u001b[K     |██████████████████████████████  | 40kB 3.2MB/s eta 0:00:01\r\u001b[K     |████████████████████████████████| 51kB 2.1MB/s \n",
            "\u001b[?25hRequirement already satisfied: requests in /usr/local/lib/python3.6/dist-packages (from riotwatcher) (2.23.0)\n",
            "Requirement already satisfied: chardet<4,>=3.0.2 in /usr/local/lib/python3.6/dist-packages (from requests->riotwatcher) (3.0.4)\n",
            "Requirement already satisfied: idna<3,>=2.5 in /usr/local/lib/python3.6/dist-packages (from requests->riotwatcher) (2.9)\n",
            "Requirement already satisfied: certifi>=2017.4.17 in /usr/local/lib/python3.6/dist-packages (from requests->riotwatcher) (2020.4.5.1)\n",
            "Requirement already satisfied: urllib3!=1.25.0,!=1.25.1,<1.26,>=1.21.1 in /usr/local/lib/python3.6/dist-packages (from requests->riotwatcher) (1.24.3)\n",
            "Installing collected packages: riotwatcher\n",
            "Successfully installed riotwatcher-3.0.0\n"
          ],
          "name": "stdout"
        }
      ]
    },
    {
      "cell_type": "code",
      "metadata": {
        "id": "fj9fquaSn47m",
        "colab_type": "code",
        "colab": {}
      },
      "source": [
        " # 발급받은 api key, 발급 후 24시간 후 파기되므로, 24시간후 재발급 해야함\n",
        "api_key = 'RGAPI-b2d101f8-c07c-47f9-b436-7b49885f30c1'"
      ],
      "execution_count": 0,
      "outputs": []
    },
    {
      "cell_type": "code",
      "metadata": {
        "id": "df4KRg2zpj_s",
        "colab_type": "code",
        "colab": {
          "base_uri": "https://localhost:8080/",
          "height": 55
        },
        "outputId": "a218618d-c903-4282-eb84-19bcbafd8d2f"
      },
      "source": [
        "from riotwatcher import LolWatcher\n",
        "import time\n",
        "\n",
        "# 소환사 정보\n",
        "watcher = LolWatcher(api_key)\n",
        "me = watcher.summoner.by_name('kr', '광진구대가리')\n",
        "print(me)"
      ],
      "execution_count": 3,
      "outputs": [
        {
          "output_type": "stream",
          "text": [
            "{'id': 'YHWH6ka9_8xKX8u5XAUw4B_2lblxf1hJGJxJ0G-es2ZT27w', 'accountId': 'xZzggA0nu4cNHOiJpB4OsNByHK-eOEWPjwGuVUSytub0etd6fdmnURth', 'puuid': 'IItKt9jHYizB6mWZm6CSp9mAXOolZKmHBL9M3VP86H3k8FoGV-lTdFSaTgu292qnz-5lKdJrl4vOJw', 'name': '광진구대가리', 'profileIconId': 4491, 'revisionDate': 1589972969000, 'summonerLevel': 14}\n"
          ],
          "name": "stdout"
        }
      ]
    },
    {
      "cell_type": "code",
      "metadata": {
        "id": "1znr-ll7rQ3H",
        "colab_type": "code",
        "colab": {
          "base_uri": "https://localhost:8080/",
          "height": 35
        },
        "outputId": "1f77fb5a-7c8b-47a9-e38c-bf20ce333fa1"
      },
      "source": [
        "summoner = \"https://kr.api.riotgames.com/lol/summoner/v4/summoners/by-name/\" +'광진구대가리' +'?api_key=' + api_key\n",
        "r = requests.get(summoner)\n",
        "r.json()['id'] #소환사의 고유 id"
      ],
      "execution_count": 6,
      "outputs": [
        {
          "output_type": "execute_result",
          "data": {
            "text/plain": [
              "'YHWH6ka9_8xKX8u5XAUw4B_2lblxf1hJGJxJ0G-es2ZT27w'"
            ]
          },
          "metadata": {
            "tags": []
          },
          "execution_count": 6
        }
      ]
    },
    {
      "cell_type": "code",
      "metadata": {
        "id": "Fk5Xlx0s8ojz",
        "colab_type": "code",
        "colab": {
          "base_uri": "https://localhost:8080/",
          "height": 35
        },
        "outputId": "8a518e27-27ef-4d71-f86e-b454fd573d50"
      },
      "source": [
        "tier_url = \"https://kr.api.riotgames.com/lol/league/v4/positions/by-summoner/\" + r.json()['id'] +'?api_key=' + api_key\n",
        "r2  = requests.get(tier_url)\n",
        "r2.json()"
      ],
      "execution_count": 7,
      "outputs": [
        {
          "output_type": "execute_result",
          "data": {
            "text/plain": [
              "{'status': {'message': 'Forbidden', 'status_code': 403}}"
            ]
          },
          "metadata": {
            "tags": []
          },
          "execution_count": 7
        }
      ]
    },
    {
      "cell_type": "code",
      "metadata": {
        "id": "_jFqx78coP5e",
        "colab_type": "code",
        "colab": {
          "base_uri": "https://localhost:8080/",
          "height": 325
        },
        "outputId": "e61e6160-ef4c-4339-929d-044ca1f06380"
      },
      "source": [
        "import requests\n",
        "import pandas as pd\n",
        "\n",
        "master = 'https://kr.api.riotgames.com/lol/league/v4/masterleagues/by-queue/RANKED_SOLO_5x5?api_key=' + api_key\n",
        "r = requests.get(master) # 다이아 데이터 호출\n",
        "league_df = pd.DataFrame(r.json())\n",
        "\n",
        "league_df.reset_index(inplace=True) #수집한 데이터 index정리\n",
        "league_entries_df = pd.DataFrame(dict(league_df['entries'])).T  # dict구조로 되어 있는 entries컬럼 풀어주기\n",
        "league_df = pd.concat([league_df, league_entries_df], axis=1)  # 열끼리 결합\n",
        "\n",
        "league_df = league_df.drop(['index', 'queue', 'name', 'leagueId', 'entries', 'rank'], axis=1)\n",
        "league_df.info()\n",
        "league_df.to_csv('LoL_gameData_master.csv',index=False,encoding = 'cp949')#중간저장"
      ],
      "execution_count": 5,
      "outputs": [
        {
          "output_type": "stream",
          "text": [
            "<class 'pandas.core.frame.DataFrame'>\n",
            "RangeIndex: 1411 entries, 0 to 1410\n",
            "Data columns (total 10 columns):\n",
            " #   Column        Non-Null Count  Dtype \n",
            "---  ------        --------------  ----- \n",
            " 0   tier          1411 non-null   object\n",
            " 1   summonerId    1411 non-null   object\n",
            " 2   summonerName  1411 non-null   object\n",
            " 3   leaguePoints  1411 non-null   object\n",
            " 4   wins          1411 non-null   object\n",
            " 5   losses        1411 non-null   object\n",
            " 6   veteran       1411 non-null   object\n",
            " 7   inactive      1411 non-null   object\n",
            " 8   freshBlood    1411 non-null   object\n",
            " 9   hotStreak     1411 non-null   object\n",
            "dtypes: object(10)\n",
            "memory usage: 110.4+ KB\n"
          ],
          "name": "stdout"
        }
      ]
    },
    {
      "cell_type": "code",
      "metadata": {
        "id": "rqUrn8_Iz6iF",
        "colab_type": "code",
        "colab": {
          "base_uri": "https://localhost:8080/",
          "height": 197
        },
        "outputId": "c1b20abc-732a-487a-c899-27231d127975"
      },
      "source": [
        "league_df.head() # "
      ],
      "execution_count": 38,
      "outputs": [
        {
          "output_type": "execute_result",
          "data": {
            "text/html": [
              "<div>\n",
              "<style scoped>\n",
              "    .dataframe tbody tr th:only-of-type {\n",
              "        vertical-align: middle;\n",
              "    }\n",
              "\n",
              "    .dataframe tbody tr th {\n",
              "        vertical-align: top;\n",
              "    }\n",
              "\n",
              "    .dataframe thead th {\n",
              "        text-align: right;\n",
              "    }\n",
              "</style>\n",
              "<table border=\"1\" class=\"dataframe\">\n",
              "  <thead>\n",
              "    <tr style=\"text-align: right;\">\n",
              "      <th></th>\n",
              "      <th>tier</th>\n",
              "      <th>summonerId</th>\n",
              "      <th>summonerName</th>\n",
              "      <th>leaguePoints</th>\n",
              "      <th>wins</th>\n",
              "      <th>losses</th>\n",
              "      <th>veteran</th>\n",
              "      <th>inactive</th>\n",
              "      <th>freshBlood</th>\n",
              "      <th>hotStreak</th>\n",
              "    </tr>\n",
              "  </thead>\n",
              "  <tbody>\n",
              "    <tr>\n",
              "      <th>0</th>\n",
              "      <td>MASTER</td>\n",
              "      <td>0NCoABMR9-2fzsZAQERFmQOCZFRVdG9uGZ_hwySWuBwOVAA</td>\n",
              "      <td>이하사TV</td>\n",
              "      <td>76</td>\n",
              "      <td>432</td>\n",
              "      <td>422</td>\n",
              "      <td>False</td>\n",
              "      <td>False</td>\n",
              "      <td>False</td>\n",
              "      <td>False</td>\n",
              "    </tr>\n",
              "    <tr>\n",
              "      <th>1</th>\n",
              "      <td>MASTER</td>\n",
              "      <td>nuoSYLMUApDVKVyM3fAT0MjZ1PmgtdotQ11oanNm9IJ-YUY</td>\n",
              "      <td>미드생태계교란종</td>\n",
              "      <td>38</td>\n",
              "      <td>328</td>\n",
              "      <td>311</td>\n",
              "      <td>False</td>\n",
              "      <td>False</td>\n",
              "      <td>True</td>\n",
              "      <td>False</td>\n",
              "    </tr>\n",
              "    <tr>\n",
              "      <th>2</th>\n",
              "      <td>MASTER</td>\n",
              "      <td>MtaQ73iv5fqmd6rVEmxEXF1Tzo74L0S9KXcmKd8w-lhZxKY</td>\n",
              "      <td>vt77</td>\n",
              "      <td>187</td>\n",
              "      <td>178</td>\n",
              "      <td>162</td>\n",
              "      <td>False</td>\n",
              "      <td>False</td>\n",
              "      <td>False</td>\n",
              "      <td>True</td>\n",
              "    </tr>\n",
              "    <tr>\n",
              "      <th>3</th>\n",
              "      <td>MASTER</td>\n",
              "      <td>FwijOhTC69fXputPGtLND3JRUnoXSNvdWDMRea59jm3fbsc</td>\n",
              "      <td>당신을 사냥</td>\n",
              "      <td>171</td>\n",
              "      <td>440</td>\n",
              "      <td>366</td>\n",
              "      <td>False</td>\n",
              "      <td>False</td>\n",
              "      <td>True</td>\n",
              "      <td>False</td>\n",
              "    </tr>\n",
              "    <tr>\n",
              "      <th>4</th>\n",
              "      <td>MASTER</td>\n",
              "      <td>t_xHtlCrBtjpY6WFX2V4_1XXG7KBhvDieTq51-ucDDOm3lQ</td>\n",
              "      <td>EMENES</td>\n",
              "      <td>78</td>\n",
              "      <td>348</td>\n",
              "      <td>336</td>\n",
              "      <td>False</td>\n",
              "      <td>False</td>\n",
              "      <td>True</td>\n",
              "      <td>False</td>\n",
              "    </tr>\n",
              "  </tbody>\n",
              "</table>\n",
              "</div>"
            ],
            "text/plain": [
              "     tier                                       summonerId  ... freshBlood hotStreak\n",
              "0  MASTER  0NCoABMR9-2fzsZAQERFmQOCZFRVdG9uGZ_hwySWuBwOVAA  ...      False     False\n",
              "1  MASTER  nuoSYLMUApDVKVyM3fAT0MjZ1PmgtdotQ11oanNm9IJ-YUY  ...       True     False\n",
              "2  MASTER  MtaQ73iv5fqmd6rVEmxEXF1Tzo74L0S9KXcmKd8w-lhZxKY  ...      False      True\n",
              "3  MASTER  FwijOhTC69fXputPGtLND3JRUnoXSNvdWDMRea59jm3fbsc  ...       True     False\n",
              "4  MASTER  t_xHtlCrBtjpY6WFX2V4_1XXG7KBhvDieTq51-ucDDOm3lQ  ...       True     False\n",
              "\n",
              "[5 rows x 10 columns]"
            ]
          },
          "metadata": {
            "tags": []
          },
          "execution_count": 38
        }
      ]
    },
    {
      "cell_type": "code",
      "metadata": {
        "id": "jl1cZntS93Ds",
        "colab_type": "code",
        "colab": {}
      },
      "source": [
        "for i in range(len(league_df)): # 해당 리그에서 수집해온 소환사 data\n",
        "  try:\n",
        "    summoner = 'https://kr.api.riotgames.com/lol/summoner/v4/summoners/by-name/' + league_df['summonerName'].iloc[i] + '?api_key=' + api_key\n",
        "    r = requests.get(summoner)\n",
        "\n",
        "    while r.status_code == 429: # 단기간 너무 많은 데이터를 요청하면 거부 -> 시간 기다렸다가 다시 요청\n",
        "      time.sleep(5)\n",
        "      summoner = 'https://kr.api.riotgames.com/lol/summoner/v4/summoners/by-name/' + league_df['summonerName'].iloc[i] + '?api_key=' + api_key\n",
        "      r = requests.get(summoner)\n",
        "    \n",
        "    account_id = r.json()['accountId'] # 받아온 계정 고유 ID를 league_df 맨 뒤 속성에 덮어 씌우기\n",
        "    league_df.iloc[i,-1] = account_id\n",
        "  except:\n",
        "    pass\n"
      ],
      "execution_count": 0,
      "outputs": []
    },
    {
      "cell_type": "code",
      "metadata": {
        "id": "-kiLUDSk979a",
        "colab_type": "code",
        "colab": {
          "base_uri": "https://localhost:8080/",
          "height": 89
        },
        "outputId": "5dfc0579-c3fd-4264-db74-3375391a1a0c"
      },
      "source": [
        "match_info_df = pd.DataFrame()\n",
        "season = str()\n",
        "for i in range(len(league_df)):\n",
        "    try:\n",
        "        match0 = 'https://kr.api.riotgames.com/lol/match/v4/matchlists/by-account/' + league_df['hotStreak'].iloc[i]  +'?season=' + season + '&api_key=' + api_key\n",
        "        r = requests.get(match0)\n",
        "        \n",
        "        while r.status_code == 429:\n",
        "            time.sleep(5)\n",
        "            match0 = 'https://kr.api.riotgames.com/lol/match/v4/matchlists/by-account/' + league_df['hotStreak'].iloc[i]  +'?season=' + season + '&api_key=' + api_key\n",
        "            r = requests.get(match0)\n",
        "            \n",
        "        match_info_df = pd.concat([match_info_df, pd.DataFrame(r.json()['matches'])])\n",
        "    \n",
        "    except:\n",
        "        print(i)"
      ],
      "execution_count": 0,
      "outputs": [
        {
          "output_type": "stream",
          "text": [
            "8\n",
            "10\n",
            "16\n",
            "26\n"
          ],
          "name": "stdout"
        }
      ]
    }
  ]
}