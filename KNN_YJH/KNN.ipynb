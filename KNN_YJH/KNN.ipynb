{
  "nbformat": 4,
  "nbformat_minor": 0,
  "metadata": {
    "colab": {
      "name": "KNN.ipynb",
      "provenance": [],
      "private_outputs": true
    },
    "kernelspec": {
      "name": "python3",
      "display_name": "Python 3"
    }
  },
  "cells": [
    {
      "cell_type": "code",
      "metadata": {
        "id": "rkJCxs4WwdLR",
        "colab_type": "code",
        "colab": {}
      },
      "source": [
        "\n",
        "# 데이터 전처리\n",
        "# pandas를 사용하여 데이터를 사용하려는 알고리즘 모델에 맞게 가공하는 것을 목적으로 한다.\n",
        "\n",
        "import pandas as pd\n",
        "import numpy as np\n",
        "import glob\n",
        "\n",
        "# DATA를 확인하기 위해 저장소에 있는 파일을 불러온다.\n",
        "# drive에 업로드 되어 있는 파일을 사용하기 위해 아래의 코드를 실행 시킨 후, authorization Code 입력\n",
        "\n",
        "from google.colab import drive\n",
        "drive.mount('/content/gdrive')\n",
        "\n",
        "link='/content/gdrive/My Drive/'\n",
        "\n",
        "# 데이터 적재\n",
        "\n",
        "data = pd.read_csv(link+'high_diamond_ranked_10min.csv', sep=',', encoding='CP949')\n",
        "data = pd.DataFrame(data)\n",
        "\n",
        "data.drop(['gameId'], axis=1, inplace=True)\n",
        "print (data.shape)\n",
        "data.head()\n",
        "\n",
        "\n",
        "\n",
        "from sklearn.model_selection import train_test_split\n",
        "\n",
        "df_train, df_test = train_test_split(data, test_size=0.2, random_state = 0)\n",
        "df_train.shape, df_test.shape\n",
        "\n",
        "y_train = df_train['blueWins']\n",
        "del df_train['blueWins']\n",
        "\n",
        "y_test = df_test['blueWins']\n",
        "del df_test['blueWins']\n",
        "\n",
        "numeric_features = df_train.dtypes[df_train.dtypes!='object'].index\n",
        "df_train[numeric_features]=df_train[numeric_features].apply(\n",
        "    lambda x:(x-x.mean())/(x.std())\n",
        ")\n",
        "df_train\n",
        "\n",
        "from sklearn.neighbors import  KNeighborsClassifier\n",
        "\n",
        "from sklearn import preprocessing\n",
        "\n",
        "knn = KNeighborsClassifier(n_neighbors=110, weights=\"distance\", metric=\"euclidean\")\n",
        "\n",
        "knn.fit(df_train, y_train)\n",
        "\n",
        "y_pred = knn.predict(df_test)\n",
        "\n",
        "print (\"테스트 세트 정확도 : {:.2f}\".format(np.mean(y_pred==y_test)))"
      ],
      "execution_count": 0,
      "outputs": []
    },
    {
      "cell_type": "code",
      "metadata": {
        "id": "amaXvOQHwd3d",
        "colab_type": "code",
        "colab": {}
      },
      "source": [
        ""
      ],
      "execution_count": 0,
      "outputs": []
    }
  ]
}