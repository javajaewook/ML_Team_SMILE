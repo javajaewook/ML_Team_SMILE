{
  "nbformat": 4,
  "nbformat_minor": 0,
  "metadata": {
    "colab": {
      "name": "logistic regression",
      "provenance": [],
      "private_outputs": true,
      "machine_shape": "hm"
    },
    "kernelspec": {
      "name": "python3",
      "display_name": "Python 3"
    }
  },
  "cells": [
    {
      "cell_type": "markdown",
      "metadata": {
        "id": "qe5iJv1M1gof",
        "colab_type": "text"
      },
      "source": [
        "# 데이터 전처리\n",
        "pandas를 사용하여 데이터를 사용하려는 알고리즘 모델에 맞게 가공하는 것을 목적으로 한다.\n",
        "\n"
      ]
    },
    {
      "cell_type": "code",
      "metadata": {
        "id": "M_o28VJy1lLq",
        "colab_type": "code",
        "colab": {}
      },
      "source": [
        "import pandas as pd\n",
        "import numpy as np\n",
        "import glob"
      ],
      "execution_count": 0,
      "outputs": []
    },
    {
      "cell_type": "markdown",
      "metadata": {
        "id": "m-jvMIyG15AM",
        "colab_type": "text"
      },
      "source": [
        "DATA를 확인하기 위해 저장소에 있는 파일을 불러온다.\n",
        "drive에 업로드 되어 있는 파일을 사용하기 위해 아래의 코드를 실행 시킨 후, authorization Code 입력"
      ]
    },
    {
      "cell_type": "code",
      "metadata": {
        "id": "LqlGOjaZ1zUT",
        "colab_type": "code",
        "colab": {}
      },
      "source": [
        "from google.colab import drive\n",
        "drive.mount('/content/gdrive')\n",
        "\n",
        "link='/content/gdrive/My Drive/'"
      ],
      "execution_count": 0,
      "outputs": []
    },
    {
      "cell_type": "markdown",
      "metadata": {
        "id": "nZjGAzSu2W_c",
        "colab_type": "text"
      },
      "source": [
        "# 데이터 적재"
      ]
    },
    {
      "cell_type": "code",
      "metadata": {
        "id": "ZyOWRr0v2TDj",
        "colab_type": "code",
        "colab": {}
      },
      "source": [
        "data = pd.read_csv(link+'high_diamond_ranked_10min.csv', sep=',', encoding='CP949')\n",
        "data = pd.DataFrame(data)\n",
        "\n",
        "data.drop(['gameId'], axis=1, inplace=True)\n",
        "\n",
        "from sklearn.model_selection import train_test_split\n",
        "\n",
        "x_train, x_test = train_test_split(data, test_size=0.1, random_state=0)\n",
        "\n",
        "m = len(x_train)\n"
      ],
      "execution_count": 0,
      "outputs": []
    },
    {
      "cell_type": "markdown",
      "metadata": {
        "id": "X_e2vEcwpGRW",
        "colab_type": "text"
      },
      "source": [
        "# 데이터 전처리"
      ]
    },
    {
      "cell_type": "code",
      "metadata": {
        "id": "MrUOEJAW2ovJ",
        "colab_type": "code",
        "colab": {}
      },
      "source": [
        "\n",
        "y_train = x_train['blueWins']\n",
        "del x_train['blueWins']\n",
        "\n",
        "y_test = x_test['blueWins']\n",
        "del x_test['blueWins']"
      ],
      "execution_count": 0,
      "outputs": []
    },
    {
      "cell_type": "markdown",
      "metadata": {
        "id": "QM08Rg__pLnI",
        "colab_type": "text"
      },
      "source": [
        "# 데이터 스케일링"
      ]
    },
    {
      "cell_type": "code",
      "metadata": {
        "id": "qTovu6ownGIt",
        "colab_type": "code",
        "colab": {}
      },
      "source": [
        "from sklearn.preprocessing import StandardScaler\n",
        "\n",
        "scaler=StandardScaler()\n",
        "\n",
        "x_train=scaler.fit_transform(x_train)\n",
        "x_test=scaler.fit_transform(x_test)"
      ],
      "execution_count": 0,
      "outputs": []
    },
    {
      "cell_type": "markdown",
      "metadata": {
        "id": "6t1ngkG3pN14",
        "colab_type": "text"
      },
      "source": [
        "# 모델 생성"
      ]
    },
    {
      "cell_type": "code",
      "metadata": {
        "id": "dacmsTOF0KlM",
        "colab_type": "code",
        "colab": {}
      },
      "source": [
        "from sklearn.linear_model import LogisticRegression\n",
        "\n",
        "model=LogisticRegression()\n",
        "model.fit(x_train, y_train)"
      ],
      "execution_count": 0,
      "outputs": []
    },
    {
      "cell_type": "markdown",
      "metadata": {
        "id": "l_8jEo6MpQWB",
        "colab_type": "text"
      },
      "source": [
        "#훈련 결과"
      ]
    },
    {
      "cell_type": "code",
      "metadata": {
        "id": "6wwW9WPinaIa",
        "colab_type": "code",
        "colab": {}
      },
      "source": [
        "print(model.score(x_train,y_train))"
      ],
      "execution_count": 0,
      "outputs": []
    },
    {
      "cell_type": "markdown",
      "metadata": {
        "id": "9iSUI8eMpRiK",
        "colab_type": "text"
      },
      "source": [
        "# 테스트 결과\n"
      ]
    },
    {
      "cell_type": "code",
      "metadata": {
        "id": "IigGCpqH_DBI",
        "colab_type": "code",
        "colab": {}
      },
      "source": [
        "print(model.score(x_test,y_test))"
      ],
      "execution_count": 0,
      "outputs": []
    },
    {
      "cell_type": "markdown",
      "metadata": {
        "id": "rMAm-vK6pTA2",
        "colab_type": "text"
      },
      "source": [
        "# 각 feature가 결과에 미치는 영향"
      ]
    },
    {
      "cell_type": "code",
      "metadata": {
        "id": "NXe_rnRn4Kbm",
        "colab_type": "code",
        "colab": {}
      },
      "source": [
        "print(model.coef_)"
      ],
      "execution_count": 0,
      "outputs": []
    }
  ]
}