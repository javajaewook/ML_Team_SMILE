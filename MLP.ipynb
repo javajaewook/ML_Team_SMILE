{
 "cells": [
  {
   "cell_type": "code",
   "execution_count": 334,
   "metadata": {},
   "outputs": [
    {
     "data": {
      "text/html": [
       "<div>\n",
       "<style scoped>\n",
       "    .dataframe tbody tr th:only-of-type {\n",
       "        vertical-align: middle;\n",
       "    }\n",
       "\n",
       "    .dataframe tbody tr th {\n",
       "        vertical-align: top;\n",
       "    }\n",
       "\n",
       "    .dataframe thead th {\n",
       "        text-align: right;\n",
       "    }\n",
       "</style>\n",
       "<table border=\"1\" class=\"dataframe\">\n",
       "  <thead>\n",
       "    <tr style=\"text-align: right;\">\n",
       "      <th></th>\n",
       "      <th>gameId</th>\n",
       "      <th>blueWins</th>\n",
       "      <th>blueWardsPlaced</th>\n",
       "      <th>blueWardsDestroyed</th>\n",
       "      <th>blueFirstBlood</th>\n",
       "      <th>blueKills</th>\n",
       "      <th>blueDeaths</th>\n",
       "      <th>blueAssists</th>\n",
       "      <th>blueEliteMonsters</th>\n",
       "      <th>blueDragons</th>\n",
       "      <th>...</th>\n",
       "      <th>redTowersDestroyed</th>\n",
       "      <th>redTotalGold</th>\n",
       "      <th>redAvgLevel</th>\n",
       "      <th>redTotalExperience</th>\n",
       "      <th>redTotalMinionsKilled</th>\n",
       "      <th>redTotalJungleMinionsKilled</th>\n",
       "      <th>redGoldDiff</th>\n",
       "      <th>redExperienceDiff</th>\n",
       "      <th>redCSPerMin</th>\n",
       "      <th>redGoldPerMin</th>\n",
       "    </tr>\n",
       "  </thead>\n",
       "  <tbody>\n",
       "    <tr>\n",
       "      <th>0</th>\n",
       "      <td>4519157822</td>\n",
       "      <td>0</td>\n",
       "      <td>28</td>\n",
       "      <td>2</td>\n",
       "      <td>1</td>\n",
       "      <td>9</td>\n",
       "      <td>6</td>\n",
       "      <td>11</td>\n",
       "      <td>0</td>\n",
       "      <td>0</td>\n",
       "      <td>...</td>\n",
       "      <td>0</td>\n",
       "      <td>16567</td>\n",
       "      <td>6.8</td>\n",
       "      <td>17047</td>\n",
       "      <td>197</td>\n",
       "      <td>55</td>\n",
       "      <td>-643</td>\n",
       "      <td>8</td>\n",
       "      <td>19.7</td>\n",
       "      <td>1656.7</td>\n",
       "    </tr>\n",
       "    <tr>\n",
       "      <th>1</th>\n",
       "      <td>4523371949</td>\n",
       "      <td>0</td>\n",
       "      <td>12</td>\n",
       "      <td>1</td>\n",
       "      <td>0</td>\n",
       "      <td>5</td>\n",
       "      <td>5</td>\n",
       "      <td>5</td>\n",
       "      <td>0</td>\n",
       "      <td>0</td>\n",
       "      <td>...</td>\n",
       "      <td>1</td>\n",
       "      <td>17620</td>\n",
       "      <td>6.8</td>\n",
       "      <td>17438</td>\n",
       "      <td>240</td>\n",
       "      <td>52</td>\n",
       "      <td>2908</td>\n",
       "      <td>1173</td>\n",
       "      <td>24.0</td>\n",
       "      <td>1762.0</td>\n",
       "    </tr>\n",
       "    <tr>\n",
       "      <th>2</th>\n",
       "      <td>4521474530</td>\n",
       "      <td>0</td>\n",
       "      <td>15</td>\n",
       "      <td>0</td>\n",
       "      <td>0</td>\n",
       "      <td>7</td>\n",
       "      <td>11</td>\n",
       "      <td>4</td>\n",
       "      <td>1</td>\n",
       "      <td>1</td>\n",
       "      <td>...</td>\n",
       "      <td>0</td>\n",
       "      <td>17285</td>\n",
       "      <td>6.8</td>\n",
       "      <td>17254</td>\n",
       "      <td>203</td>\n",
       "      <td>28</td>\n",
       "      <td>1172</td>\n",
       "      <td>1033</td>\n",
       "      <td>20.3</td>\n",
       "      <td>1728.5</td>\n",
       "    </tr>\n",
       "    <tr>\n",
       "      <th>3</th>\n",
       "      <td>4524384067</td>\n",
       "      <td>0</td>\n",
       "      <td>43</td>\n",
       "      <td>1</td>\n",
       "      <td>0</td>\n",
       "      <td>4</td>\n",
       "      <td>5</td>\n",
       "      <td>5</td>\n",
       "      <td>1</td>\n",
       "      <td>0</td>\n",
       "      <td>...</td>\n",
       "      <td>0</td>\n",
       "      <td>16478</td>\n",
       "      <td>7.0</td>\n",
       "      <td>17961</td>\n",
       "      <td>235</td>\n",
       "      <td>47</td>\n",
       "      <td>1321</td>\n",
       "      <td>7</td>\n",
       "      <td>23.5</td>\n",
       "      <td>1647.8</td>\n",
       "    </tr>\n",
       "    <tr>\n",
       "      <th>4</th>\n",
       "      <td>4436033771</td>\n",
       "      <td>0</td>\n",
       "      <td>75</td>\n",
       "      <td>4</td>\n",
       "      <td>0</td>\n",
       "      <td>6</td>\n",
       "      <td>6</td>\n",
       "      <td>6</td>\n",
       "      <td>0</td>\n",
       "      <td>0</td>\n",
       "      <td>...</td>\n",
       "      <td>0</td>\n",
       "      <td>17404</td>\n",
       "      <td>7.0</td>\n",
       "      <td>18313</td>\n",
       "      <td>225</td>\n",
       "      <td>67</td>\n",
       "      <td>1004</td>\n",
       "      <td>-230</td>\n",
       "      <td>22.5</td>\n",
       "      <td>1740.4</td>\n",
       "    </tr>\n",
       "  </tbody>\n",
       "</table>\n",
       "<p>5 rows × 40 columns</p>\n",
       "</div>"
      ],
      "text/plain": [
       "       gameId  blueWins  blueWardsPlaced  blueWardsDestroyed  blueFirstBlood  \\\n",
       "0  4519157822         0               28                   2               1   \n",
       "1  4523371949         0               12                   1               0   \n",
       "2  4521474530         0               15                   0               0   \n",
       "3  4524384067         0               43                   1               0   \n",
       "4  4436033771         0               75                   4               0   \n",
       "\n",
       "   blueKills  blueDeaths  blueAssists  blueEliteMonsters  blueDragons  ...  \\\n",
       "0          9           6           11                  0            0  ...   \n",
       "1          5           5            5                  0            0  ...   \n",
       "2          7          11            4                  1            1  ...   \n",
       "3          4           5            5                  1            0  ...   \n",
       "4          6           6            6                  0            0  ...   \n",
       "\n",
       "   redTowersDestroyed  redTotalGold  redAvgLevel  redTotalExperience  \\\n",
       "0                   0         16567          6.8               17047   \n",
       "1                   1         17620          6.8               17438   \n",
       "2                   0         17285          6.8               17254   \n",
       "3                   0         16478          7.0               17961   \n",
       "4                   0         17404          7.0               18313   \n",
       "\n",
       "   redTotalMinionsKilled  redTotalJungleMinionsKilled  redGoldDiff  \\\n",
       "0                    197                           55         -643   \n",
       "1                    240                           52         2908   \n",
       "2                    203                           28         1172   \n",
       "3                    235                           47         1321   \n",
       "4                    225                           67         1004   \n",
       "\n",
       "   redExperienceDiff  redCSPerMin  redGoldPerMin  \n",
       "0                  8         19.7         1656.7  \n",
       "1               1173         24.0         1762.0  \n",
       "2               1033         20.3         1728.5  \n",
       "3                  7         23.5         1647.8  \n",
       "4               -230         22.5         1740.4  \n",
       "\n",
       "[5 rows x 40 columns]"
      ]
     },
     "execution_count": 334,
     "metadata": {},
     "output_type": "execute_result"
    }
   ],
   "source": [
    "import numpy as np\n",
    "import pandas as pd\n",
    "\n",
    "import matplotlib.pyplot as plt\n",
    "import seaborn as sns\n",
    "from scipy import stats\n",
    "from statsmodels.stats import weightstats as stests\n",
    "\n",
    "from sklearn.preprocessing import LabelEncoder\n",
    "from sklearn.model_selection import train_test_split\n",
    "from sklearn.linear_model import LinearRegression\n",
    "from sklearn.preprocessing import PolynomialFeatures\n",
    "from sklearn.metrics import r2_score, mean_absolute_error, mean_squared_error\n",
    "\n",
    "data = pd.read_csv('../lol/high_diamond_ranked_10min.csv', sep=',', encoding='CP949')\n",
    "data.head()"
   ]
  },
  {
   "cell_type": "code",
   "execution_count": null,
   "metadata": {},
   "outputs": [],
   "source": []
  },
  {
   "cell_type": "code",
   "execution_count": 335,
   "metadata": {},
   "outputs": [],
   "source": [
    "del data['gameId']"
   ]
  },
  {
   "cell_type": "code",
   "execution_count": 336,
   "metadata": {},
   "outputs": [
    {
     "data": {
      "text/plain": [
       "((6915, 39), (2964, 39))"
      ]
     },
     "execution_count": 336,
     "metadata": {},
     "output_type": "execute_result"
    }
   ],
   "source": [
    "from sklearn.model_selection import train_test_split\n",
    "\n",
    "df_train, df_test = train_test_split(data, test_size=0.3, random_state=0)\n",
    "df_train.shape, df_test.shape"
   ]
  },
  {
   "cell_type": "code",
   "execution_count": 337,
   "metadata": {},
   "outputs": [],
   "source": [
    "train_y = df_train['blueWins']\n",
    "del df_train['blueWins']"
   ]
  },
  {
   "cell_type": "code",
   "execution_count": 338,
   "metadata": {},
   "outputs": [],
   "source": [
    "test_y = df_test['blueWins']\n",
    "del df_test['blueWins']"
   ]
  },
  {
   "cell_type": "code",
   "execution_count": 339,
   "metadata": {},
   "outputs": [],
   "source": [
    "from sklearn.preprocessing import MinMaxScaler\n",
    "sc = MinMaxScaler((-1, 1))"
   ]
  },
  {
   "cell_type": "code",
   "execution_count": 340,
   "metadata": {},
   "outputs": [
    {
     "name": "stderr",
     "output_type": "stream",
     "text": [
      "/home/ec2-user/anaconda3/envs/pytorch_p27/lib/python2.7/site-packages/sklearn/preprocessing/data.py:334: DataConversionWarning: Data with input dtype int64, float64 were all converted to float64 by MinMaxScaler.\n",
      "  return self.partial_fit(X, y)\n"
     ]
    }
   ],
   "source": [
    "df_train = sc.fit_transform(df_train)\n",
    "df_test = sc.transform(df_test)"
   ]
  },
  {
   "cell_type": "code",
   "execution_count": 341,
   "metadata": {},
   "outputs": [],
   "source": [
    "import torch\n",
    "from torch import nn, optim\n",
    "from torch.nn import functional as F"
   ]
  },
  {
   "cell_type": "code",
   "execution_count": 342,
   "metadata": {},
   "outputs": [
    {
     "data": {
      "text/plain": [
       "(6915, 38)"
      ]
     },
     "execution_count": 342,
     "metadata": {},
     "output_type": "execute_result"
    }
   ],
   "source": [
    "df_train.shape"
   ]
  },
  {
   "cell_type": "code",
   "execution_count": 343,
   "metadata": {},
   "outputs": [],
   "source": [
    "df_train = torch.tensor(df_train).float()\n",
    "df_test = torch.tensor(df_test).float()\n",
    "train_y = torch.tensor(train_y.values).long()\n",
    "test_y = torch.tensor(test_y.values).long()"
   ]
  },
  {
   "cell_type": "code",
   "execution_count": 344,
   "metadata": {},
   "outputs": [],
   "source": [
    "class LolNN(nn.Module):\n",
    "    def __init__(self):\n",
    "        super(LolNN, self).__init__()\n",
    "        self.fc1 = nn.Linear(38, 100)\n",
    "        self.fc2 = nn.Linear(100, 100)\n",
    "        #self.fc3 = nn.Linear(100, 100)\n",
    "        #self.fc4 = nn.Linear(100, 100)\n",
    "        self.fc3 = nn.Linear(100, 2)\n",
    "\n",
    "    def forward(self, x):\n",
    "        x = F.relu(self.fc1(x))\n",
    "        x = F.relu(self.fc2(x))\n",
    "        #x = F.relu(self.fc3(x))\n",
    "        #x = F.relu(self.fc4(x))\n",
    "        return self.fc3(x)\n",
    "    "
   ]
  },
  {
   "cell_type": "code",
   "execution_count": 345,
   "metadata": {},
   "outputs": [],
   "source": [
    "net = LolNN()"
   ]
  },
  {
   "cell_type": "code",
   "execution_count": 346,
   "metadata": {},
   "outputs": [],
   "source": [
    "optimizer = optim.Adam(net.parameters())\n",
    "criterion = nn.CrossEntropyLoss()"
   ]
  },
  {
   "cell_type": "code",
   "execution_count": 347,
   "metadata": {},
   "outputs": [],
   "source": [
    "losses = []"
   ]
  },
  {
   "cell_type": "code",
   "execution_count": 348,
   "metadata": {},
   "outputs": [
    {
     "name": "stdout",
     "output_type": "stream",
     "text": [
      "Epoch 1, Loss: 0.692271888256\n",
      "Epoch 2, Loss: 0.684285461903\n",
      "Epoch 3, Loss: 0.676737546921\n",
      "Epoch 4, Loss: 0.669408500195\n",
      "Epoch 5, Loss: 0.662133157253\n",
      "Epoch 6, Loss: 0.65478682518\n",
      "Epoch 7, Loss: 0.647283613682\n",
      "Epoch 8, Loss: 0.639637291431\n",
      "Epoch 9, Loss: 0.631846725941\n",
      "Epoch 10, Loss: 0.623905420303\n",
      "Epoch 11, Loss: 0.615824818611\n",
      "Epoch 12, Loss: 0.607681572437\n",
      "Epoch 13, Loss: 0.599607050419\n",
      "Epoch 14, Loss: 0.591768324375\n",
      "Epoch 15, Loss: 0.584320604801\n",
      "Epoch 16, Loss: 0.577336847782\n",
      "Epoch 17, Loss: 0.570862293243\n",
      "Epoch 18, Loss: 0.564901888371\n",
      "Epoch 19, Loss: 0.559427976608\n",
      "Epoch 20, Loss: 0.554409265518\n",
      "Epoch 21, Loss: 0.549780011177\n",
      "Epoch 22, Loss: 0.545467674732\n",
      "Epoch 23, Loss: 0.541465997696\n",
      "Epoch 24, Loss: 0.537824511528\n",
      "Epoch 25, Loss: 0.534657180309\n",
      "Epoch 26, Loss: 0.532092630863\n",
      "Epoch 27, Loss: 0.530228197575\n",
      "Epoch 28, Loss: 0.529064238071\n",
      "Epoch 29, Loss: 0.528604567051\n",
      "Epoch 30, Loss: 0.528794527054\n",
      "Epoch 31, Loss: 0.529431223869\n",
      "Epoch 32, Loss: 0.530208170414\n",
      "Epoch 33, Loss: 0.530849277973\n",
      "Epoch 34, Loss: 0.531195282936\n",
      "Epoch 35, Loss: 0.531151115894\n",
      "Epoch 36, Loss: 0.530738294125\n",
      "Epoch 37, Loss: 0.530074477196\n",
      "Epoch 38, Loss: 0.529290854931\n",
      "Epoch 39, Loss: 0.528475642204\n",
      "Epoch 40, Loss: 0.527711927891\n",
      "Epoch 41, Loss: 0.527047336102\n",
      "Epoch 42, Loss: 0.526499569416\n",
      "Epoch 43, Loss: 0.52604663372\n",
      "Epoch 44, Loss: 0.525688767433\n",
      "Epoch 45, Loss: 0.525413095951\n",
      "Epoch 46, Loss: 0.525201559067\n",
      "Epoch 47, Loss: 0.525051176548\n",
      "Epoch 48, Loss: 0.524955570698\n",
      "Epoch 49, Loss: 0.524906277657\n",
      "Epoch 50, Loss: 0.524871468544\n",
      "Epoch 51, Loss: 0.524833381176\n",
      "Epoch 52, Loss: 0.524775743484\n",
      "Epoch 53, Loss: 0.524683952332\n",
      "Epoch 54, Loss: 0.524546563625\n",
      "Epoch 55, Loss: 0.524378180504\n",
      "Epoch 56, Loss: 0.524185121059\n",
      "Epoch 57, Loss: 0.523980915546\n",
      "Epoch 58, Loss: 0.523780345917\n",
      "Epoch 59, Loss: 0.523587524891\n",
      "Epoch 60, Loss: 0.523404359818\n",
      "Epoch 61, Loss: 0.523237466812\n",
      "Epoch 62, Loss: 0.523083865643\n",
      "Epoch 63, Loss: 0.522940278053\n",
      "Epoch 64, Loss: 0.522806406021\n",
      "Epoch 65, Loss: 0.522684931755\n",
      "Epoch 66, Loss: 0.522572636604\n",
      "Epoch 67, Loss: 0.522470891476\n",
      "Epoch 68, Loss: 0.52236944437\n",
      "Epoch 69, Loss: 0.522269785404\n",
      "Epoch 70, Loss: 0.522164702415\n",
      "Epoch 71, Loss: 0.522052824497\n",
      "Epoch 72, Loss: 0.521933972836\n",
      "Epoch 73, Loss: 0.521807968616\n",
      "Epoch 74, Loss: 0.521676957607\n",
      "Epoch 75, Loss: 0.521546661854\n",
      "Epoch 76, Loss: 0.521417915821\n",
      "Epoch 77, Loss: 0.521294772625\n",
      "Epoch 78, Loss: 0.521177470684\n",
      "Epoch 79, Loss: 0.521061718464\n",
      "Epoch 80, Loss: 0.520947217941\n",
      "Epoch 81, Loss: 0.520830988884\n",
      "Epoch 82, Loss: 0.520713150501\n",
      "Epoch 83, Loss: 0.520593225956\n",
      "Epoch 84, Loss: 0.52047508955\n",
      "Epoch 85, Loss: 0.520351350307\n",
      "Epoch 86, Loss: 0.520225822926\n",
      "Epoch 87, Loss: 0.520102739334\n",
      "Epoch 88, Loss: 0.519977211952\n",
      "Epoch 89, Loss: 0.519853591919\n",
      "Epoch 90, Loss: 0.519726872444\n",
      "Epoch 91, Loss: 0.519597709179\n",
      "Epoch 92, Loss: 0.519468069077\n",
      "Epoch 93, Loss: 0.519336402416\n",
      "Epoch 94, Loss: 0.519203901291\n",
      "Epoch 95, Loss: 0.519070029259\n",
      "Epoch 96, Loss: 0.518938302994\n",
      "Epoch 97, Loss: 0.518804013729\n",
      "Epoch 98, Loss: 0.518668711185\n",
      "Epoch 99, Loss: 0.518531560898\n",
      "Epoch 100, Loss: 0.518396317959\n",
      "Epoch 101, Loss: 0.518260657787\n",
      "Epoch 102, Loss: 0.518125474453\n",
      "Epoch 103, Loss: 0.517991185188\n",
      "Epoch 104, Loss: 0.517855107784\n",
      "Epoch 105, Loss: 0.51771914959\n",
      "Epoch 106, Loss: 0.517580032349\n",
      "Epoch 107, Loss: 0.517439126968\n",
      "Epoch 108, Loss: 0.517295897007\n",
      "Epoch 109, Loss: 0.517157375813\n",
      "Epoch 110, Loss: 0.517022132874\n",
      "Epoch 111, Loss: 0.516887426376\n",
      "Epoch 112, Loss: 0.516753971577\n",
      "Epoch 113, Loss: 0.516616940498\n",
      "Epoch 114, Loss: 0.516476511955\n",
      "Epoch 115, Loss: 0.516333401203\n",
      "Epoch 116, Loss: 0.516186058521\n",
      "Epoch 117, Loss: 0.516042113304\n",
      "Epoch 118, Loss: 0.515896856785\n",
      "Epoch 119, Loss: 0.515748620033\n",
      "Epoch 120, Loss: 0.51559895277\n",
      "Epoch 121, Loss: 0.515451908112\n",
      "Epoch 122, Loss: 0.51530200243\n",
      "Epoch 123, Loss: 0.515153408051\n",
      "Epoch 124, Loss: 0.515002012253\n",
      "Epoch 125, Loss: 0.514844238758\n",
      "Epoch 126, Loss: 0.514687299728\n",
      "Epoch 127, Loss: 0.514532446861\n",
      "Epoch 128, Loss: 0.514380156994\n",
      "Epoch 129, Loss: 0.514224767685\n",
      "Epoch 130, Loss: 0.514066576958\n",
      "Epoch 131, Loss: 0.513904809952\n",
      "Epoch 132, Loss: 0.513741374016\n",
      "Epoch 133, Loss: 0.513571321964\n",
      "Epoch 134, Loss: 0.513400673866\n",
      "Epoch 135, Loss: 0.513229906559\n",
      "Epoch 136, Loss: 0.513053297997\n",
      "Epoch 137, Loss: 0.512875437737\n",
      "Epoch 138, Loss: 0.512691497803\n",
      "Epoch 139, Loss: 0.512510120869\n",
      "Epoch 140, Loss: 0.512325942516\n",
      "Epoch 141, Loss: 0.512147009373\n",
      "Epoch 142, Loss: 0.511961102486\n",
      "Epoch 143, Loss: 0.511767745018\n",
      "Epoch 144, Loss: 0.511568486691\n",
      "Epoch 145, Loss: 0.511367678642\n",
      "Epoch 146, Loss: 0.511164903641\n",
      "Epoch 147, Loss: 0.510956346989\n",
      "Epoch 148, Loss: 0.510741949081\n",
      "Epoch 149, Loss: 0.510530412197\n"
     ]
    }
   ],
   "source": [
    "for epoch in range(1, 150):\n",
    "    optimizer.zero_grad()\n",
    "    outputs = net(df_train)\n",
    "    loss = criterion(outputs, train_y)\n",
    "    loss.backward()\n",
    "    optimizer.step()\n",
    "    losses.append(loss.item())\n",
    "    print(\"Epoch {}, Loss: {}\".format(epoch, loss.item()))"
   ]
  },
  {
   "cell_type": "code",
   "execution_count": 349,
   "metadata": {},
   "outputs": [
    {
     "data": {
      "text/plain": [
       "[<matplotlib.lines.Line2D at 0x7feb074da310>]"
      ]
     },
     "execution_count": 349,
     "metadata": {},
     "output_type": "execute_result"
    },
    {
     "data": {
      "image/png": "[encoded data removed]",
      "text/plain": [
       "<Figure size 432x288 with 1 Axes>"
      ]
     },
     "metadata": {},
     "output_type": "display_data"
    }
   ],
   "source": [
    "plt.plot(losses)"
   ]
  },
  {
   "cell_type": "code",
   "execution_count": 350,
   "metadata": {},
   "outputs": [],
   "source": [
    "pred_test = net(df_test)\n",
    "_, preds_y = torch.max(pred_test, 1)"
   ]
  },
  {
   "cell_type": "code",
   "execution_count": 351,
   "metadata": {},
   "outputs": [],
   "source": [
    "from sklearn.metrics import accuracy_score, confusion_matrix, classification_report"
   ]
  },
  {
   "cell_type": "code",
   "execution_count": 352,
   "metadata": {},
   "outputs": [
    {
     "data": {
      "text/plain": [
       "0.717948717948718"
      ]
     },
     "execution_count": 352,
     "metadata": {},
     "output_type": "execute_result"
    }
   ],
   "source": [
    "accuracy_score(test_y, preds_y)"
   ]
  },
  {
   "cell_type": "code",
   "execution_count": null,
   "metadata": {},
   "outputs": [],
   "source": []
  },
  {
   "cell_type": "code",
   "execution_count": null,
   "metadata": {},
   "outputs": [],
   "source": []
  },
  {
   "cell_type": "code",
   "execution_count": null,
   "metadata": {},
   "outputs": [],
   "source": []
  },
  {
   "cell_type": "code",
   "execution_count": null,
   "metadata": {},
   "outputs": [],
   "source": []
  }
 ],
 "metadata": {
  "kernelspec": {
   "display_name": "conda_pytorch_p27",
   "language": "python",
   "name": "conda_pytorch_p27"
  },
  "language_info": {
   "codemirror_mode": {
    "name": "ipython",
    "version": 2
   },
   "file_extension": ".py",
   "mimetype": "text/x-python",
   "name": "python",
   "nbconvert_exporter": "python",
   "pygments_lexer": "ipython2",
   "version": "2.7.15"
  }
 },
 "nbformat": 4,
 "nbformat_minor": 4
}
